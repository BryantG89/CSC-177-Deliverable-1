{
 "cells": [
  {
   "cell_type": "markdown",
   "id": "e80ca4c9-9652-465b-a181-ffbb514fc87e",
   "metadata": {},
   "source": [
    "## Classification Models Project "
   ]
  },
  {
   "cell_type": "code",
   "execution_count": 23,
   "id": "657f5551-2b7d-46b2-a663-1db9406b4252",
   "metadata": {},
   "outputs": [],
   "source": [
    "#import necessary libraries\n",
    "import pandas as pd\n",
    "import numpy as np\n",
    "from sklearn.model_selection import train_test_split\n",
    "from sklearn.linear_model import LogisticRegression\n",
    "from sklearn.metrics import confusion_matrix\n",
    "from sklearn.metrics import accuracy_score\n",
    "import matplotlib.pyplot as plt\n"
   ]
  },
  {
   "cell_type": "markdown",
   "id": "29150388-4dac-4781-a350-848d9635f50c",
   "metadata": {},
   "source": [
    "### Clasifcation Model using our Real Estate Data\n",
    "I am going to use logistic regression classification model to predict the probability of a house being more expensive than the mean of our list of houses. For the real estate dataset, the mean price of homes is 37.980 per unit. I am going to use the transaction date, the house age, distance to metro stations, and number of conviencience stores to predict the probability of a house being more expensive than `meanPrice` of homes. After creating a logistic model and creating a confusion matrix, we resulted a test error of 16.9%. In other words, our model predicted correctly 83.1% of the time if a home was more expensive than the `meanPrice` of homes. "
   ]
  },
  {
   "cell_type": "code",
   "execution_count": 24,
   "id": "8a092311-89c0-48c0-9bd7-35ed3648c994",
   "metadata": {},
   "outputs": [
    {
     "name": "stdout",
     "output_type": "stream",
     "text": [
      "Confusion matrix:\n",
      " [[32  7]\n",
      " [ 7 37]]\n",
      "Test Error Rate: 0.1686746987951807\n"
     ]
    }
   ],
   "source": [
    "#classifcation model on our own real estate dataset\n",
    "\n",
    "#read data\n",
    "#data = pd.read_excel(\"C:\\\\Users\\\\Julian\\\\OneDrive\\\\Escuela\\\\Spring24\\\\CSC177\\\\Real estate valuation data set.xlsx\")\n",
    "data = pd.read_excel(\"~/Documents/Datasets/RealEstateDataSet.xlsx\")\n",
    "\n",
    "#Using logistic regression, predict the probability of a house being more expensive than the mean of houses.\n",
    "#get mean of all houses\n",
    "meanPrice =data[\"Y house price of unit area\"].mean()\n",
    "\n",
    "#create a new column and as '1' if a house price is higher than the mean\n",
    "data[\"AboveMean\"] = (data[\"Y house price of unit area\"] > meanPrice).astype(int)\n",
    "\n",
    "#get our features\n",
    "features = [\"X1 transaction date\", \"X2 house age\" , \"X3 distance to the nearest MRT station\" , \"X4 number of convenience stores\"]\n",
    "target = \"AboveMean\"\n",
    "\n",
    "#split data innto training and testing sets\n",
    "X_train, X_test, y_train, y_test = train_test_split(data[features], data[target], test_size=0.2, random_state=40)\n",
    "\n",
    "#create logistic model\n",
    "model1 = LogisticRegression()\n",
    "\n",
    "#traing the model \n",
    "model1.fit(X_train, y_train)\n",
    "\n",
    "#make predictions based on test set\n",
    "predictions1 = model1.predict(X_test)\n",
    "\n",
    "#create confusion matrix \n",
    "confusionMatrix = confusion_matrix(y_test, predictions1)\n",
    "\n",
    "#print the confusion matrix\n",
    "print(\"Confusion matrix:\\n\" , confusionMatrix)\n",
    "\n",
    "#get our test error\n",
    "accuracy = accuracy_score(y_test, predictions1)\n",
    "testError = 1 -accuracy\n",
    "print(\"Test Error Rate:\" , testError)\n"
   ]
  },
  {
   "cell_type": "markdown",
   "id": "85fc5608-d239-4ca7-b79e-4517113009a8",
   "metadata": {},
   "source": [
    "### Clasifcation Model using Churning Data"
   ]
  },
  {
   "cell_type": "markdown",
   "id": "80b764ac-f168-47c4-828f-2c4264803e40",
   "metadata": {},
   "source": [
    "I am going to also use a Logistic Regression model to predict the probability of losing a customer to churn (or the natural loss of customers over time). We will use \"Exited\" as our response variable; and \"CreditScore\", \"Age\", \"Tenure\", \"Balance\", \"NumOfProducts\", \"HasCrCard\", \"IsActiveMember\", and \"EstimatedSalary\" as our Features. From the Test Error Rate, we can see our model guesses correctly about 80% of the time."
   ]
  },
  {
   "cell_type": "code",
   "execution_count": 87,
   "id": "77f49ed0-6c16-4857-9320-6eb3f7d022d2",
   "metadata": {},
   "outputs": [],
   "source": [
    "#Classification Model on Churn_Modelling dataset from Canvas\n",
    "churnData = pd.read_csv('~/Documents/Datasets/Churn_Modelling.csv')"
   ]
  },
  {
   "cell_type": "code",
   "execution_count": 61,
   "id": "2bc90ee0-e63c-4e98-b440-cbc2dc0a26d9",
   "metadata": {},
   "outputs": [],
   "source": [
    "# Seperate out Response variables\n",
    "churnResponse = 'Exited'"
   ]
  },
  {
   "cell_type": "code",
   "execution_count": 66,
   "id": "8afe3ea9-a46c-4e9f-a84b-b664b8c8b72d",
   "metadata": {},
   "outputs": [],
   "source": [
    "# Seperate out Features\n",
    "churnFeatures =['CreditScore','Age', 'Tenure', 'Balance', 'NumOfProducts', 'HasCrCard', 'IsActiveMember', 'EstimatedSalary']"
   ]
  },
  {
   "cell_type": "code",
   "execution_count": 83,
   "id": "a29946bc-c7db-4a35-94f1-6dd8d5a234ac",
   "metadata": {},
   "outputs": [],
   "source": [
    "# Seperate data for training and testing\n",
    "churnXTrain, churnXTest, churnYTrain, churnYTest = train_test_split(churnData[churnFeatures], churnData[churnResponse].astype(bool), test_size=0.4, random_state=40)"
   ]
  },
  {
   "cell_type": "code",
   "execution_count": 89,
   "id": "d1b25cce-b53e-40fa-b061-0ef5b52c0a40",
   "metadata": {},
   "outputs": [
    {
     "name": "stdout",
     "output_type": "stream",
     "text": [
      "[False False False ... False  True False]\n",
      "Test Error Rate:  0.21350000000000002\n",
      "[False False False ... False  True False]\n",
      "Test Error Rate:  0.20725000000000005\n",
      "[False False False ... False  True False]\n",
      "Test Error Rate:  0.20550000000000002\n",
      "[False False False ... False  True False]\n",
      "Test Error Rate:  0.20450000000000002\n",
      "[False False False ... False  True False]\n",
      "Test Error Rate:  0.20475\n",
      "[False False False ... False  True False]\n",
      "Test Error Rate:  0.20475\n",
      "[False False False ... False  True False]\n",
      "Test Error Rate:  0.20425000000000004\n",
      "[False False False ... False  True False]\n",
      "Test Error Rate:  0.20399999999999996\n",
      "[False False False ... False  True False]\n",
      "Test Error Rate:  0.20499999999999996\n",
      "[False False False ... False  True False]\n",
      "Test Error Rate:  0.20450000000000002\n"
     ]
    },
    {
     "data": {
      "text/plain": [
       "Text(0, 0.5, 'Accuracy')"
      ]
     },
     "execution_count": 89,
     "metadata": {},
     "output_type": "execute_result"
    },
    {
     "data": {
      "image/png": "[encoded data removed]",
      "text/plain": [
       "<Figure size 640x480 with 1 Axes>"
      ]
     },
     "metadata": {},
     "output_type": "display_data"
    }
   ],
   "source": [
    "# Regularization Parameters, used to prevent overfitting by penalizing large coefficeints\n",
    "C = [0.01, 0.1, 0.2, 0.5, 0.8, 1, 5, 10, 20, 50]\n",
    "\n",
    "# Initialize result lists\n",
    "LRtestAcc = []\n",
    "LRtrainAcc = []\n",
    "\n",
    "# Train and evaluate model\n",
    "for param in C:\n",
    "    clf = LogisticRegression(C=param, max_iter=10000)\n",
    "    clf.fit(churnXTrain,churnYTrain)\n",
    "    log_reg_pred = clf.predict(churnXTest)\n",
    "    log_reg_pred_train = clf.predict(churnXTrain)\n",
    "    print(log_reg_pred)\n",
    "    print(\"Test Error Rate: \", 1-accuracy_score(churnYTest, log_reg_pred))\n",
    "    LRtestAcc.append(accuracy_score(churnYTest, log_reg_pred))\n",
    "    LRtrainAcc.append(accuracy_score(churnYTrain,log_reg_pred_train))\n",
    "    \n",
    "    \n",
    "# Display\n",
    "plt.plot(C, LRtestAcc,'bv--',C,LRtrainAcc,'ro--')\n",
    "plt.legend(['Test Accuracy','Train Accuracy'])\n",
    "plt.xlabel('C')\n",
    "plt.xscale('log')\n",
    "plt.ylabel('Accuracy')  "
   ]
  },
  {
   "cell_type": "code",
   "execution_count": null,
   "id": "79928976-1c6b-42af-93db-23d6944dec00",
   "metadata": {},
   "outputs": [],
   "source": []
  },
  {
   "cell_type": "code",
   "execution_count": null,
   "id": "a2a6484f-ee74-4785-8a8c-b93637863c84",
   "metadata": {},
   "outputs": [],
   "source": []
  },
  {
   "cell_type": "code",
   "execution_count": null,
   "id": "e2d5044d-bdfe-485c-bb4e-a76720366713",
   "metadata": {},
   "outputs": [],
   "source": []
  }
 ],
 "metadata": {
  "kernelspec": {
   "display_name": "Python 3 (ipykernel)",
   "language": "python",
   "name": "python3"
  },
  "language_info": {
   "codemirror_mode": {
    "name": "ipython",
    "version": 3
   },
   "file_extension": ".py",
   "mimetype": "text/x-python",
   "name": "python",
   "nbconvert_exporter": "python",
   "pygments_lexer": "ipython3",
   "version": "3.11.8"
  }
 },
 "nbformat": 4,
 "nbformat_minor": 5
}
