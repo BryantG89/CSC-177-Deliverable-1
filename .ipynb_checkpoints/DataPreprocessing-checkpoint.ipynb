{
 "cells": [
  {
   "cell_type": "markdown",
   "id": "a5b4abd6-3066-4e01-bf4e-d95e07453221",
   "metadata": {},
   "source": [
    "## Data Preprocessing Project\n",
    "Mining Manatees : Amandeep Singh, Bryant Galo, Elizabeth Hernandez-Meza , Jasmine Pincombe, Michael Lee Lawler, Xuanxuan Miao, Julian Pulido\n"
   ]
  },
  {
   "cell_type": "code",
   "execution_count": 1,
   "id": "55e903d6-926d-4d08-9206-3b96c3d7f545",
   "metadata": {},
   "outputs": [],
   "source": [
    "#TODO: Pick Dataset and make ready for preprocessing"
   ]
  },
  {
   "cell_type": "code",
   "execution_count": 2,
   "id": "19a1e6ba-b0fa-4a17-aa76-ec65f7f38470",
   "metadata": {},
   "outputs": [],
   "source": [
    "#TODO: Preprocess Data. Arrange steps and document techniques "
   ]
  },
  {
   "cell_type": "code",
   "execution_count": 3,
   "id": "cf0d3945-82ab-4fde-ba0b-bdd0f1ceaaa0",
   "metadata": {},
   "outputs": [],
   "source": [
    "#TODO: Split dataset- calculate mean and standard deviation"
   ]
  },
  {
   "cell_type": "code",
   "execution_count": null,
   "id": "fde4ab5f-445f-4c28-99bb-f638ba20bc30",
   "metadata": {},
   "outputs": [],
   "source": [
    "#TODO: Compare split datasets and document difference/intuition"
   ]
  }
 ],
 "metadata": {
  "kernelspec": {
   "display_name": "Python 3 (ipykernel)",
   "language": "python",
   "name": "python3"
  },
  "language_info": {
   "codemirror_mode": {
    "name": "ipython",
    "version": 3
   },
   "file_extension": ".py",
   "mimetype": "text/x-python",
   "name": "python",
   "nbconvert_exporter": "python",
   "pygments_lexer": "ipython3",
   "version": "3.12.1"
  }
 },
 "nbformat": 4,
 "nbformat_minor": 5
}
