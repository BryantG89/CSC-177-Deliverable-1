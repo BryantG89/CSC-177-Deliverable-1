{
 "cells": [
  {
   "cell_type": "markdown",
   "id": "e80ca4c9-9652-465b-a181-ffbb514fc87e",
   "metadata": {},
   "source": [
    "## Classification Models Project "
   ]
  },
  {
   "cell_type": "code",
   "execution_count": 29,
   "id": "657f5551-2b7d-46b2-a663-1db9406b4252",
   "metadata": {},
   "outputs": [],
   "source": [
    "#import necessary libraries\n",
    "import pandas as pd\n",
    "import numpy as np\n",
    "from sklearn.model_selection import train_test_split\n",
    "from sklearn.linear_model import LogisticRegression\n",
    "from sklearn.metrics import confusion_matrix\n",
    "from sklearn.metrics import accuracy_score\n",
    "import matplotlib.pyplot as plt\n"
   ]
  },
  {
   "cell_type": "markdown",
   "id": "29150388-4dac-4781-a350-848d9635f50c",
   "metadata": {},
   "source": [
    "### Clasifcation Model using our Real Estate Data\n",
    "I am going to use logistic regression classification model to predict the probability of a house being more expensive than the mean of our list of houses. For the real estate dataset, the mean price of homes is 37.980 per unit. I am going to use the transaction date, the house age, distance to metro stations, and number of conviencience stores to predict the probability of a house being more expensive than `meanPrice` of homes. After creating a logistic model and creating a confusion matrix, we resulted a test error of 16.9%. In other words, our model predicted correctly 83.1% of the time if a home was more expensive than the `meanPrice` of homes. "
   ]
  },
  {
   "cell_type": "code",
   "execution_count": 33,
   "id": "8a092311-89c0-48c0-9bd7-35ed3648c994",
   "metadata": {},
   "outputs": [
    {
     "name": "stdout",
     "output_type": "stream",
     "text": [
      "Confusion matrix:\n",
      " [[32  7]\n",
      " [ 7 37]]\n",
      "Test Error Rate: 0.1686746987951807\n"
     ]
    }
   ],
   "source": [
    "#classifcation model on our own real estate dataset\n",
    "\n",
    "#read data\n",
    "data = pd.read_excel(\"C:\\\\Users\\\\Julian\\\\OneDrive\\\\Escuela\\\\Spring24\\\\CSC177\\\\Real estate valuation data set.xlsx\")\n",
    "\n",
    "#Using logistic regression, predict the probability of a house being more expensive than the mean of houses.\n",
    "#get mean of all houses\n",
    "meanPrice =data[\"Y house price of unit area\"].mean()\n",
    "\n",
    "#create a new column and as '1' if a house price is higher than the mean\n",
    "data[\"AboveMean\"] = (data[\"Y house price of unit area\"] > meanPrice).astype(int)\n",
    "\n",
    "#get our features\n",
    "features = [\"X1 transaction date\", \"X2 house age\" , \"X3 distance to the nearest MRT station\" , \"X4 number of convenience stores\"]\n",
    "target = \"AboveMean\"\n",
    "\n",
    "#split data innto training and testing sets\n",
    "X_train, X_test, y_train, y_test = train_test_split(data[features], data[target], test_size=0.2, random_state=40)\n",
    "\n",
    "#create logistic model\n",
    "model1 = LogisticRegression()\n",
    "\n",
    "#traing the model \n",
    "model1.fit(X_train, y_train)\n",
    "\n",
    "#make predictions based on test set\n",
    "predictions1 = model1.predict(X_test)\n",
    "\n",
    "#create confusion matrix \n",
    "confusionMatrix = confusion_matrix(y_test, predictions1)\n",
    "\n",
    "#print the confusion matrix\n",
    "print(\"Confusion matrix:\\n\" , confusionMatrix)\n",
    "\n",
    "#get our test error\n",
    "accuracy = accuracy_score(y_test, predictions1)\n",
    "testError = 1 -accuracy\n",
    "print(\"Test Error Rate:\" , testError)\n"
   ]
  },
  {
   "cell_type": "markdown",
   "id": "85fc5608-d239-4ca7-b79e-4517113009a8",
   "metadata": {},
   "source": [
    "### Clasifcation Model using Churning Data"
   ]
  },
  {
   "cell_type": "code",
   "execution_count": 32,
   "id": "77f49ed0-6c16-4857-9320-6eb3f7d022d2",
   "metadata": {},
   "outputs": [],
   "source": [
    "#Classification Model on Churn_Modelling dataset from Canvas"
   ]
  }
 ],
 "metadata": {
  "kernelspec": {
   "display_name": "Python 3 (ipykernel)",
   "language": "python",
   "name": "python3"
  },
  "language_info": {
   "codemirror_mode": {
    "name": "ipython",
    "version": 3
   },
   "file_extension": ".py",
   "mimetype": "text/x-python",
   "name": "python",
   "nbconvert_exporter": "python",
   "pygments_lexer": "ipython3",
   "version": "3.12.1"
  }
 },
 "nbformat": 4,
 "nbformat_minor": 5
}
