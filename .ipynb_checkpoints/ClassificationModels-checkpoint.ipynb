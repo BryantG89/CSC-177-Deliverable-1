{
 "cells": [
  {
   "cell_type": "markdown",
   "id": "e80ca4c9-9652-465b-a181-ffbb514fc87e",
   "metadata": {},
   "source": [
    "## Classification Models Project "
   ]
  },
  {
   "cell_type": "code",
   "execution_count": 7,
   "id": "657f5551-2b7d-46b2-a663-1db9406b4252",
   "metadata": {},
   "outputs": [],
   "source": [
    "#import necessary libraries\n",
    "import pandas as pd\n",
    "import numpy as np\n",
    "from sklearn.model_selection import train_test_split\n",
    "from sklearn.linear_model import LogisticRegression\n",
    "from sklearn.metrics import confusion_matrix\n",
    "from sklearn.metrics import accuracy_score\n",
    "import matplotlib.pyplot as plt\n"
   ]
  },
  {
   "cell_type": "markdown",
   "id": "29150388-4dac-4781-a350-848d9635f50c",
   "metadata": {},
   "source": [
    "### Clasifcation Model using our Real Estate Data\n",
    "I am going to use logistic regression classification model to predict the probability of a house being more expensive than the mean of our list of houses. For the real estate dataset, the mean price of homes is 37.980 per unit. I am going to use the transaction date, the house age, distance to metro stations, and number of conviencience stores to predict the probability of a house being more expensive than `meanPrice` of homes. After creating a logistic model and creating a confusion matrix, we resulted a test error of 16.9%. In other words, our model predicted correctly 83.1% of the time if a home was more expensive than the `meanPrice` of homes. "
   ]
  },
  {
   "cell_type": "code",
   "execution_count": 19,
   "id": "8a092311-89c0-48c0-9bd7-35ed3648c994",
   "metadata": {},
   "outputs": [
    {
     "name": "stdout",
     "output_type": "stream",
     "text": [
      "Confusion matrix:\n",
      " [[32  7]\n",
      " [ 7 37]]\n",
      "Test Error Rate: 0.1686746987951807\n"
     ]
    }
   ],
   "source": [
    "from sklearn.metrics import confusion_matrix, accuracy_score\n",
    "import pandas as pd\n",
    "from sklearn.model_selection import train_test_split\n",
    "from sklearn.linear_model import LogisticRegression\n",
    "\n",
    "# Read data\n",
    "data = pd.read_excel(\"/Users/xuanxuanmiao/csc177/Real estate valuation data set.xlsx\")\n",
    "\n",
    "# Using logistic regression, predict the probability of a house being more expensive than the mean of houses.\n",
    "# Get mean of all houses\n",
    "meanPrice = data[\"Y house price of unit area\"].mean()\n",
    "\n",
    "# Create a new column and set as '1' if a house price is higher than the mean\n",
    "data[\"AboveMean\"] = (data[\"Y house price of unit area\"] > meanPrice).astype(int)\n",
    "\n",
    "# Get our features\n",
    "features = [\"X1 transaction date\", \"X2 house age\", \"X3 distance to the nearest MRT station\", \"X4 number of convenience stores\"]\n",
    "target = \"AboveMean\"\n",
    "\n",
    "# Split data into training and testing sets\n",
    "X_train, X_test, y_train, y_test = train_test_split(data[features], data[target], test_size=0.2, random_state=40)\n",
    "\n",
    "# Create logistic model\n",
    "model1 = LogisticRegression()\n",
    "\n",
    "# Train the model\n",
    "model1.fit(X_train, y_train)\n",
    "\n",
    "# Make predictions based on test set\n",
    "predictions1 = model1.predict(X_test)\n",
    "\n",
    "# Create confusion matrix\n",
    "confusionMatrix = confusion_matrix(y_test, predictions1)\n",
    "\n",
    "# Print the confusion matrix\n",
    "print(\"Confusion matrix:\\n\", confusionMatrix)\n",
    "\n",
    "# Get our test error\n",
    "accuracy = accuracy_score(y_test, predictions1)\n",
    "testError = 1 - accuracy\n",
    "print(\"Test Error Rate:\", testError)\n"
   ]
  },
  {
   "cell_type": "markdown",
   "id": "825a7c86",
   "metadata": {},
   "source": [
    "Confusion matrix:\n",
    " [[32  7]\n",
    " [ 7 37]]\n",
    "Test Error Rate: 0.1686746987951807\n"
   ]
  },
  {
   "cell_type": "markdown",
   "id": "85fc5608-d239-4ca7-b79e-4517113009a8",
   "metadata": {},
   "source": [
    "### Clasifcation Model using Churning Data"
   ]
  },
  {
   "cell_type": "code",
   "execution_count": 32,
   "id": "77f49ed0-6c16-4857-9320-6eb3f7d022d2",
   "metadata": {},
   "outputs": [],
   "source": [
    "#Classification Model on Churn_Modelling dataset from Canvas"
   ]
  },
  {
   "cell_type": "markdown",
   "id": "3640cdfd",
   "metadata": {},
   "source": [
    "3. Running the classification models on the provided dataset. ( xuan)\n"
   ]
  },
  {
   "cell_type": "code",
   "execution_count": 20,
   "id": "eae88b39",
   "metadata": {},
   "outputs": [
    {
     "name": "stdout",
     "output_type": "stream",
     "text": [
      "Decision Tree - Test Error Rate: 0.20481927710843373\n",
      "Random Forest - Test Error Rate: 0.19277108433734935\n"
     ]
    }
   ],
   "source": [
    "from sklearn.tree import DecisionTreeClassifier\n",
    "from sklearn.ensemble import RandomForestClassifier\n",
    "\n",
    "# Decision Tree Classifier\n",
    "# create model\n",
    "model2 = DecisionTreeClassifier()\n",
    "\n",
    "# train the model\n",
    "model2.fit(X_train, y_train)\n",
    "\n",
    "# make predictions based on the test set\n",
    "predictions2 = model2.predict(X_test)\n",
    "\n",
    "# calculate accuracy\n",
    "accuracy2 = accuracy_score(y_test, predictions2)\n",
    "testError2 = 1 - accuracy2\n",
    "print(\"Decision Tree - Test Error Rate:\", testError2)\n",
    "\n",
    "# Random Forest Classifier\n",
    "# create model\n",
    "model3 = RandomForestClassifier()\n",
    "\n",
    "# train the model\n",
    "model3.fit(X_train, y_train)\n",
    "\n",
    "# make predictions based on the test set\n",
    "predictions3 = model3.predict(X_test)\n",
    "\n",
    "# calculate accuracy\n",
    "accuracy3 = accuracy_score(y_test, predictions3)\n",
    "testError3 = 1 - accuracy3\n",
    "print(\"Random Forest - Test Error Rate:\", testError3)\n"
   ]
  },
  {
   "cell_type": "markdown",
   "id": "f94b926d",
   "metadata": {},
   "source": [
    "\n",
    "Decision Tree - Test Error Rate: 0.20481927710843373\n",
    "Random Forest - Test Error Rate: 0.19277108433734935\n"
   ]
  },
  {
   "cell_type": "markdown",
   "id": "35f72416",
   "metadata": {},
   "source": [
    "4. Performing accuracy analysis and comparing the models on the provided dataset. ( xuanxuan)"
   ]
  },
  {
   "cell_type": "code",
   "execution_count": 23,
   "id": "058584de",
   "metadata": {},
   "outputs": [
    {
     "name": "stdout",
     "output_type": "stream",
     "text": [
      "Logistic Regression Model:\n",
      "Accuracy: 0.8313253012048193\n",
      "Precision: 0.8409090909090909\n",
      "Recall: 0.8409090909090909\n",
      "F1-score: 0.8409090909090909\n",
      "\n",
      "Random Forest Model:\n",
      "Accuracy: 0.8192771084337349\n",
      "Precision: 0.9142857142857143\n",
      "Recall: 0.7272727272727273\n",
      "F1-score: 0.810126582278481\n"
     ]
    }
   ],
   "source": [
    "import pandas as pd\n",
    "from sklearn.model_selection import train_test_split\n",
    "from sklearn.linear_model import LogisticRegression\n",
    "from sklearn.ensemble import RandomForestClassifier\n",
    "from sklearn.metrics import accuracy_score, precision_score, recall_score, f1_score\n",
    "\n",
    "# Read data\n",
    "data = pd.read_excel(\"/Users/xuanxuanmiao/csc177/Real estate valuation data set.xlsx\")\n",
    "\n",
    "# Using logistic regression, predict the probability of a house being more expensive than the mean of houses.\n",
    "# Get mean of all houses\n",
    "meanPrice = data[\"Y house price of unit area\"].mean()\n",
    "\n",
    "# Create a new column and set as '1' if a house price is higher than the mean\n",
    "data[\"AboveMean\"] = (data[\"Y house price of unit area\"] > meanPrice).astype(int)\n",
    "\n",
    "# Get our features and target\n",
    "features = [\"X1 transaction date\", \"X2 house age\", \"X3 distance to the nearest MRT station\", \"X4 number of convenience stores\"]\n",
    "target = \"AboveMean\"\n",
    "\n",
    "# Split data into training and testing sets\n",
    "X_train, X_test, y_train, y_test = train_test_split(data[features], data[target], test_size=0.2, random_state=40)\n",
    "\n",
    "# Train logistic regression model\n",
    "logistic_model = LogisticRegression()\n",
    "logistic_model.fit(X_train, y_train)\n",
    "\n",
    "# Make predictions\n",
    "logistic_predictions = logistic_model.predict(X_test)\n",
    "\n",
    "# Evaluate logistic regression model\n",
    "logistic_accuracy = accuracy_score(y_test, logistic_predictions)\n",
    "logistic_precision = precision_score(y_test, logistic_predictions)\n",
    "logistic_recall = recall_score(y_test, logistic_predictions)\n",
    "logistic_f1 = f1_score(y_test, logistic_predictions)\n",
    "\n",
    "# Train Random Forest model\n",
    "rf_model = RandomForestClassifier()\n",
    "rf_model.fit(X_train, y_train)\n",
    "\n",
    "# Make predictions\n",
    "rf_predictions = rf_model.predict(X_test)\n",
    "\n",
    "# Evaluate Random Forest model\n",
    "rf_accuracy = accuracy_score(y_test, rf_predictions)\n",
    "rf_precision = precision_score(y_test, rf_predictions)\n",
    "rf_recall = recall_score(y_test, rf_predictions)\n",
    "rf_f1 = f1_score(y_test, rf_predictions)\n",
    "\n",
    "# Compare performance\n",
    "print(\"Logistic Regression Model:\")\n",
    "print(\"Accuracy:\", logistic_accuracy)\n",
    "print(\"Precision:\", logistic_precision)\n",
    "print(\"Recall:\", logistic_recall)\n",
    "print(\"F1-score:\", logistic_f1)\n",
    "print(\"\\nRandom Forest Model:\")\n",
    "print(\"Accuracy:\", rf_accuracy)\n",
    "print(\"Precision:\", rf_precision)\n",
    "print(\"Recall:\", rf_recall)\n",
    "print(\"F1-score:\", rf_f1)\n"
   ]
  },
  {
   "cell_type": "markdown",
   "id": "c40d39fe",
   "metadata": {},
   "source": [
    "Logistic Regression Model:\n",
    "Accuracy: 0.8313253012048193\n",
    "Precision: 0.8409090909090909\n",
    "Recall: 0.8409090909090909\n",
    "F1-score: 0.8409090909090909\n",
    "\n",
    "Random Forest Model:\n",
    "Accuracy: 0.8192771084337349\n",
    "Precision: 0.9142857142857143\n",
    "Recall: 0.7272727272727273\n",
    "F1-score: 0.810126582278481\n"
   ]
  }
 ],
 "metadata": {
  "kernelspec": {
   "display_name": "Python 3 (ipykernel)",
   "language": "python",
   "name": "python3"
  },
  "language_info": {
   "codemirror_mode": {
    "name": "ipython",
    "version": 3
   },
   "file_extension": ".py",
   "mimetype": "text/x-python",
   "name": "python",
   "nbconvert_exporter": "python",
   "pygments_lexer": "ipython3",
   "version": "3.11.4"
  }
 },
 "nbformat": 4,
 "nbformat_minor": 5
}
