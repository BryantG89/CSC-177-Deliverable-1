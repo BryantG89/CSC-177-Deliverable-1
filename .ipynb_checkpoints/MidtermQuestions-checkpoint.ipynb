{
 "cells": [
  {
   "cell_type": "code",
   "execution_count": 1,
   "id": "01e80937-be86-4660-9249-e9407dc843d5",
   "metadata": {},
   "outputs": [
    {
     "name": "stderr",
     "output_type": "stream",
     "text": [
      "C:\\Users\\Julian\\AppData\\Local\\Temp\\ipykernel_7172\\2162656668.py:1: DeprecationWarning: \n",
      "Pyarrow will become a required dependency of pandas in the next major release of pandas (pandas 3.0),\n",
      "(to allow more performant data types, such as the Arrow string type, and better interoperability with other libraries)\n",
      "but was not found to be installed on your system.\n",
      "If this would cause problems for you,\n",
      "please provide us feedback at https://github.com/pandas-dev/pandas/issues/54466\n",
      "        \n",
      "  import pandas as pd\n"
     ]
    }
   ],
   "source": [
    "import pandas as pd\n",
    "import numpy as np"
   ]
  },
  {
   "cell_type": "code",
   "execution_count": 39,
   "id": "904b5cb9-1ef8-4e87-997b-c94a979b0898",
   "metadata": {},
   "outputs": [
    {
     "name": "stdout",
     "output_type": "stream",
     "text": [
      "  Name  Math  English\n",
      "0    A    87       50\n",
      "1    B    90       68\n",
      "2    C    51       45\n",
      "3    D    25       88\n",
      "4    E    98       14\n",
      "Printing means:\n",
      " Math       70.2\n",
      "English    53.0\n",
      "dtype: float64\n",
      "Printing means:\n",
      " Math       31.059620\n",
      "English    27.586228\n",
      "dtype: float64\n",
      "\n",
      "Calculating 25% percentile\n",
      "English: 45.0\n",
      "Math: 51.0\n",
      "\n",
      "Calculating 50% percentile\n",
      "English: 50.0\n",
      "Math: 87.0\n",
      "\n",
      "Calculating 75% percentile\n",
      "English: 68.0\n",
      "Math: 90.0\n"
     ]
    }
   ],
   "source": [
    "\"\"\"\n",
    "From the given dataset find the mean, standard deviation\n",
    ", 25% - the 25% percentile, 50% - the 50% percentile, 75% - the 75% percentile for the 'Math' and 'English' attribute. \n",
    "\"\"\"\n",
    "\n",
    "dictionary_data={'Name':['A','B','C','D','E'],'Math':[87,90,51,25,98],'English':[50,68,45,88,14]}\n",
    "\n",
    "dataframe = pd.DataFrame(dictionary_data)\n",
    "print(dataframe)\n",
    "\n",
    "print(\"Printing means:\\n\", dataframe.mean(numeric_only=True))\n",
    "print(\"Printing standard deviation:\\n\", dataframe.std(numeric_only=True))\n",
    "\n",
    "print(\"\\nCalculating 25% percentile\")\n",
    "print(\"English:\", np.percentile(dataframe['English'], 25))\n",
    "print(\"Math:\", np.percentile(dataframe['Math'], 25))\n",
    "\n",
    "print(\"\\nCalculating 50% percentile\")\n",
    "print(\"English:\", np.percentile(dataframe['English'], 50))\n",
    "print(\"Math:\", np.percentile(dataframe['Math'], 50))\n",
    "\n",
    "print(\"\\nCalculating 75% percentile\")\n",
    "print(\"English:\", np.percentile(dataframe['English'], 75))\n",
    "print(\"Math:\", np.percentile(dataframe['Math'], 75))\n"
   ]
  },
  {
   "cell_type": "code",
   "execution_count": 38,
   "id": "75bac6e9-e7ce-41aa-bb1d-ce47ff8856ce",
   "metadata": {},
   "outputs": [
    {
     "name": "stdout",
     "output_type": "stream",
     "text": [
      "Help on method std in module pandas.core.frame:\n",
      "\n",
      "std(axis: 'Axis | None' = 0, skipna: 'bool' = True, ddof: 'int' = 1, numeric_only: 'bool' = False, **kwargs) method of pandas.core.frame.DataFrame instance\n",
      "    Return sample standard deviation over requested axis.\n",
      "\n",
      "    Normalized by N-1 by default. This can be changed using the ddof argument.\n",
      "\n",
      "    Parameters\n",
      "    ----------\n",
      "    axis : {index (0), columns (1)}\n",
      "        For `Series` this parameter is unused and defaults to 0.\n",
      "\n",
      "        .. warning::\n",
      "\n",
      "            The behavior of DataFrame.std with ``axis=None`` is deprecated,\n",
      "            in a future version this will reduce over both axes and return a scalar\n",
      "            To retain the old behavior, pass axis=0 (or do not pass axis).\n",
      "\n",
      "    skipna : bool, default True\n",
      "        Exclude NA/null values. If an entire row/column is NA, the result\n",
      "        will be NA.\n",
      "    ddof : int, default 1\n",
      "        Delta Degrees of Freedom. The divisor used in calculations is N - ddof,\n",
      "        where N represents the number of elements.\n",
      "    numeric_only : bool, default False\n",
      "        Include only float, int, boolean columns. Not implemented for Series.\n",
      "\n",
      "    Returns\n",
      "    -------\n",
      "    Series or DataFrame (if level specified)\n",
      "\n",
      "    Notes\n",
      "    -----\n",
      "    To have the same behaviour as `numpy.std`, use `ddof=0` (instead of the\n",
      "    default `ddof=1`)\n",
      "\n",
      "    Examples\n",
      "    --------\n",
      "    >>> df = pd.DataFrame({'person_id': [0, 1, 2, 3],\n",
      "    ...                    'age': [21, 25, 62, 43],\n",
      "    ...                    'height': [1.61, 1.87, 1.49, 2.01]}\n",
      "    ...                   ).set_index('person_id')\n",
      "    >>> df\n",
      "               age  height\n",
      "    person_id\n",
      "    0           21    1.61\n",
      "    1           25    1.87\n",
      "    2           62    1.49\n",
      "    3           43    2.01\n",
      "\n",
      "    The standard deviation of the columns can be found as follows:\n",
      "\n",
      "    >>> df.std()\n",
      "    age       18.786076\n",
      "    height     0.237417\n",
      "    dtype: float64\n",
      "\n",
      "    Alternatively, `ddof=0` can be set to normalize by N instead of N-1:\n",
      "\n",
      "    >>> df.std(ddof=0)\n",
      "    age       16.269219\n",
      "    height     0.205609\n",
      "    dtype: float64\n",
      "\n"
     ]
    }
   ],
   "source": [
    "help(dataframe.std)"
   ]
  }
 ],
 "metadata": {
  "kernelspec": {
   "display_name": "Python 3 (ipykernel)",
   "language": "python",
   "name": "python3"
  },
  "language_info": {
   "codemirror_mode": {
    "name": "ipython",
    "version": 3
   },
   "file_extension": ".py",
   "mimetype": "text/x-python",
   "name": "python",
   "nbconvert_exporter": "python",
   "pygments_lexer": "ipython3",
   "version": "3.12.1"
  }
 },
 "nbformat": 4,
 "nbformat_minor": 5
}
