{
 "cells": [
  {
   "cell_type": "markdown",
   "id": "a5b4abd6-3066-4e01-bf4e-d95e07453221",
   "metadata": {},
   "source": [
    "## Data Preprocessing Project\n",
    "Mining Manatees : Amandeep Singh, Bryant Galo, Elizabeth Hernandez-Meza , Jasmine Pincombe, Michael Lee Lawler, Xuanxuan Miao, Julian Pulido\n"
   ]
  },
  {
   "cell_type": "code",
   "execution_count": 127,
   "id": "e9e99cda",
   "metadata": {},
   "outputs": [],
   "source": [
    "import pandas as pd\n",
    "import numpy as np\n",
    "import matplotlib.pyplot as plt\n",
    "\n",
    "#We will be using the real estate valuation data set\n",
    "#https://archive.ics.uci.edu/dataset/477/real+estate+valuation+data+set"
   ]
  },
  {
   "cell_type": "code",
   "execution_count": 128,
   "id": "8aa0976b",
   "metadata": {},
   "outputs": [
    {
     "data": {
      "text/html": [
       "<div>\n",
       "<style scoped>\n",
       "    .dataframe tbody tr th:only-of-type {\n",
       "        vertical-align: middle;\n",
       "    }\n",
       "\n",
       "    .dataframe tbody tr th {\n",
       "        vertical-align: top;\n",
       "    }\n",
       "\n",
       "    .dataframe thead th {\n",
       "        text-align: right;\n",
       "    }\n",
       "</style>\n",
       "<table border=\"1\" class=\"dataframe\">\n",
       "  <thead>\n",
       "    <tr style=\"text-align: right;\">\n",
       "      <th></th>\n",
       "      <th>No</th>\n",
       "      <th>X1 transaction date</th>\n",
       "      <th>X2 house age</th>\n",
       "      <th>X3 distance to the nearest MRT station</th>\n",
       "      <th>X4 number of convenience stores</th>\n",
       "      <th>X5 latitude</th>\n",
       "      <th>X6 longitude</th>\n",
       "      <th>Y house price of unit area</th>\n",
       "    </tr>\n",
       "  </thead>\n",
       "  <tbody>\n",
       "    <tr>\n",
       "      <th>0</th>\n",
       "      <td>1</td>\n",
       "      <td>2012.916667</td>\n",
       "      <td>32.0</td>\n",
       "      <td>84.87882</td>\n",
       "      <td>10</td>\n",
       "      <td>24.98298</td>\n",
       "      <td>121.54024</td>\n",
       "      <td>37.9</td>\n",
       "    </tr>\n",
       "    <tr>\n",
       "      <th>1</th>\n",
       "      <td>2</td>\n",
       "      <td>2012.916667</td>\n",
       "      <td>19.5</td>\n",
       "      <td>306.59470</td>\n",
       "      <td>9</td>\n",
       "      <td>24.98034</td>\n",
       "      <td>121.53951</td>\n",
       "      <td>42.2</td>\n",
       "    </tr>\n",
       "    <tr>\n",
       "      <th>2</th>\n",
       "      <td>3</td>\n",
       "      <td>2013.583333</td>\n",
       "      <td>13.3</td>\n",
       "      <td>561.98450</td>\n",
       "      <td>5</td>\n",
       "      <td>24.98746</td>\n",
       "      <td>121.54391</td>\n",
       "      <td>47.3</td>\n",
       "    </tr>\n",
       "    <tr>\n",
       "      <th>3</th>\n",
       "      <td>4</td>\n",
       "      <td>2013.500000</td>\n",
       "      <td>13.3</td>\n",
       "      <td>561.98450</td>\n",
       "      <td>5</td>\n",
       "      <td>24.98746</td>\n",
       "      <td>121.54391</td>\n",
       "      <td>54.8</td>\n",
       "    </tr>\n",
       "    <tr>\n",
       "      <th>4</th>\n",
       "      <td>5</td>\n",
       "      <td>2012.833333</td>\n",
       "      <td>5.0</td>\n",
       "      <td>390.56840</td>\n",
       "      <td>5</td>\n",
       "      <td>24.97937</td>\n",
       "      <td>121.54245</td>\n",
       "      <td>43.1</td>\n",
       "    </tr>\n",
       "    <tr>\n",
       "      <th>...</th>\n",
       "      <td>...</td>\n",
       "      <td>...</td>\n",
       "      <td>...</td>\n",
       "      <td>...</td>\n",
       "      <td>...</td>\n",
       "      <td>...</td>\n",
       "      <td>...</td>\n",
       "      <td>...</td>\n",
       "    </tr>\n",
       "    <tr>\n",
       "      <th>409</th>\n",
       "      <td>410</td>\n",
       "      <td>2013.000000</td>\n",
       "      <td>13.7</td>\n",
       "      <td>4082.01500</td>\n",
       "      <td>0</td>\n",
       "      <td>24.94155</td>\n",
       "      <td>121.50381</td>\n",
       "      <td>15.4</td>\n",
       "    </tr>\n",
       "    <tr>\n",
       "      <th>410</th>\n",
       "      <td>411</td>\n",
       "      <td>2012.666667</td>\n",
       "      <td>5.6</td>\n",
       "      <td>90.45606</td>\n",
       "      <td>9</td>\n",
       "      <td>24.97433</td>\n",
       "      <td>121.54310</td>\n",
       "      <td>50.0</td>\n",
       "    </tr>\n",
       "    <tr>\n",
       "      <th>411</th>\n",
       "      <td>412</td>\n",
       "      <td>2013.250000</td>\n",
       "      <td>18.8</td>\n",
       "      <td>390.96960</td>\n",
       "      <td>7</td>\n",
       "      <td>24.97923</td>\n",
       "      <td>121.53986</td>\n",
       "      <td>40.6</td>\n",
       "    </tr>\n",
       "    <tr>\n",
       "      <th>412</th>\n",
       "      <td>413</td>\n",
       "      <td>2013.000000</td>\n",
       "      <td>8.1</td>\n",
       "      <td>104.81010</td>\n",
       "      <td>5</td>\n",
       "      <td>24.96674</td>\n",
       "      <td>121.54067</td>\n",
       "      <td>52.5</td>\n",
       "    </tr>\n",
       "    <tr>\n",
       "      <th>413</th>\n",
       "      <td>414</td>\n",
       "      <td>2013.500000</td>\n",
       "      <td>6.5</td>\n",
       "      <td>90.45606</td>\n",
       "      <td>9</td>\n",
       "      <td>24.97433</td>\n",
       "      <td>121.54310</td>\n",
       "      <td>63.9</td>\n",
       "    </tr>\n",
       "  </tbody>\n",
       "</table>\n",
       "<p>414 rows × 8 columns</p>\n",
       "</div>"
      ],
      "text/plain": [
       "      No  X1 transaction date  X2 house age  \\\n",
       "0      1          2012.916667          32.0   \n",
       "1      2          2012.916667          19.5   \n",
       "2      3          2013.583333          13.3   \n",
       "3      4          2013.500000          13.3   \n",
       "4      5          2012.833333           5.0   \n",
       "..   ...                  ...           ...   \n",
       "409  410          2013.000000          13.7   \n",
       "410  411          2012.666667           5.6   \n",
       "411  412          2013.250000          18.8   \n",
       "412  413          2013.000000           8.1   \n",
       "413  414          2013.500000           6.5   \n",
       "\n",
       "     X3 distance to the nearest MRT station  X4 number of convenience stores  \\\n",
       "0                                  84.87882                               10   \n",
       "1                                 306.59470                                9   \n",
       "2                                 561.98450                                5   \n",
       "3                                 561.98450                                5   \n",
       "4                                 390.56840                                5   \n",
       "..                                      ...                              ...   \n",
       "409                              4082.01500                                0   \n",
       "410                                90.45606                                9   \n",
       "411                               390.96960                                7   \n",
       "412                               104.81010                                5   \n",
       "413                                90.45606                                9   \n",
       "\n",
       "     X5 latitude  X6 longitude  Y house price of unit area  \n",
       "0       24.98298     121.54024                        37.9  \n",
       "1       24.98034     121.53951                        42.2  \n",
       "2       24.98746     121.54391                        47.3  \n",
       "3       24.98746     121.54391                        54.8  \n",
       "4       24.97937     121.54245                        43.1  \n",
       "..           ...           ...                         ...  \n",
       "409     24.94155     121.50381                        15.4  \n",
       "410     24.97433     121.54310                        50.0  \n",
       "411     24.97923     121.53986                        40.6  \n",
       "412     24.96674     121.54067                        52.5  \n",
       "413     24.97433     121.54310                        63.9  \n",
       "\n",
       "[414 rows x 8 columns]"
      ]
     },
     "execution_count": 128,
     "metadata": {},
     "output_type": "execute_result"
    }
   ],
   "source": [
    "#https://archive.ics.uci.edu/dataset/477/real+estate+valuation+data+set\n",
    "#download dataset and paste below in the parameter\n",
    "RealEstateData = pd.read_excel(\"C:\\\\Users\\\\Julian\\\\OneDrive\\\\Escuela\\\\Spring24\\\\CSC177\\\\Real estate valuation data set.xlsx\")\n",
    "RealEstateData"
   ]
  },
  {
   "cell_type": "markdown",
   "id": "02487827-dca1-42ab-9847-03ce9f63ad6e",
   "metadata": {},
   "source": [
    "## Missing data and making data messy"
   ]
  },
  {
   "cell_type": "code",
   "execution_count": 129,
   "id": "0e386534-1766-48e6-8639-229297a2665e",
   "metadata": {},
   "outputs": [
    {
     "name": "stdout",
     "output_type": "stream",
     "text": [
      "No                                        False\n",
      "X1 transaction date                       False\n",
      "X2 house age                              False\n",
      "X3 distance to the nearest MRT station    False\n",
      "X4 number of convenience stores           False\n",
      "X5 latitude                               False\n",
      "X6 longitude                              False\n",
      "Y house price of unit area                False\n",
      "dtype: bool\n",
      "No                                        0\n",
      "X1 transaction date                       0\n",
      "X2 house age                              6\n",
      "X3 distance to the nearest MRT station    0\n",
      "X4 number of convenience stores           0\n",
      "X5 latitude                               0\n",
      "X6 longitude                              0\n",
      "Y house price of unit area                6\n",
      "dtype: int64\n"
     ]
    }
   ],
   "source": [
    "#Detecting missing values\n",
    "print(RealEstateData.isna().any())\n",
    "\n",
    "randNums = [3, 10, 42, 100, 328, 400]\n",
    "\n",
    "#forcibly make some data NA\n",
    "for i in randNums:\n",
    "    #replace random numbers with na\n",
    "    RealEstateData.iloc[i,7] = np.nan\n",
    "    RealEstateData.iloc[i,2] = np.nan\n",
    "\n",
    "    \n",
    "print(RealEstateData.isna().sum())"
   ]
  },
  {
   "cell_type": "markdown",
   "id": "db0cbf0c-7f73-4edf-946e-476a27a09e0e",
   "metadata": {},
   "source": [
    "## Estimating Missing Data"
   ]
  },
  {
   "cell_type": "code",
   "execution_count": 130,
   "id": "62c6c973-c9fc-42b7-9bd6-46b2fa7474d9",
   "metadata": {},
   "outputs": [
    {
     "name": "stdout",
     "output_type": "stream",
     "text": [
      "Missing data in houseAgeMedian column:  No                                        0\n",
      "X1 transaction date                       0\n",
      "X2 house age                              0\n",
      "X3 distance to the nearest MRT station    0\n",
      "X4 number of convenience stores           0\n",
      "X5 latitude                               0\n",
      "X6 longitude                              0\n",
      "Y house price of unit area                6\n",
      "dtype: int64\n",
      "Median House Age 16.1\n"
     ]
    }
   ],
   "source": [
    "houseAgeMedian = RealEstateData['X2 house age'].median()\n",
    "RealEstateData['X2 house age'] = RealEstateData['X2 house age'].fillna(houseAgeMedian)\n",
    "print(\"Missing data in houseAgeMedian column: \" , RealEstateData.isna().sum())\n",
    "print(\"Median House Age\" , houseAgeMedian)"
   ]
  },
  {
   "cell_type": "code",
   "execution_count": 131,
   "id": "9dc97a41-7250-49c1-b7fd-8607ef68c8eb",
   "metadata": {},
   "outputs": [
    {
     "name": "stdout",
     "output_type": "stream",
     "text": [
      "Missing data in houseValueMedian column:  No                                        0\n",
      "X1 transaction date                       0\n",
      "X2 house age                              0\n",
      "X3 distance to the nearest MRT station    0\n",
      "X4 number of convenience stores           0\n",
      "X5 latitude                               0\n",
      "X6 longitude                              0\n",
      "Y house price of unit area                0\n",
      "dtype: int64\n",
      "House Value Median:  38.55\n"
     ]
    }
   ],
   "source": [
    "houseValueMedian = RealEstateData['Y house price of unit area'].median()\n",
    "RealEstateData['Y house price of unit area'] = RealEstateData['Y house price of unit area'].fillna(houseValueMedian)\n",
    "print(\"Missing data in houseValueMedian column: \" , RealEstateData.isna().sum())\n",
    "print(\"House Value Median: \" , houseValueMedian)"
   ]
  },
  {
   "cell_type": "code",
   "execution_count": 132,
   "id": "19a1e6ba-b0fa-4a17-aa76-ec65f7f38470",
   "metadata": {},
   "outputs": [
    {
     "name": "stdout",
     "output_type": "stream",
     "text": [
      "List of our column names before aggregation:  ['No', 'X1 transaction date', 'X2 house age', 'X3 distance to the nearest MRT station', 'X4 number of convenience stores', 'X5 latitude', 'X6 longitude', 'Y house price of unit area']\n",
      "\n",
      "\n",
      "After aggreation of columnds Langitutde and Longitude into column corridnate Index(['No', 'X1 transaction date', 'X2 house age',\n",
      "       'X3 distance to the nearest MRT station',\n",
      "       'X4 number of convenience stores', 'Y house price of unit area',\n",
      "       'Coord'],\n",
      "      dtype='object')\n"
     ]
    },
    {
     "data": {
      "text/plain": [
       "Y house price of unit area\n",
       "(7.49, 35.075]     165\n",
       "(35.075, 62.55]    236\n",
       "(62.55, 90.025]     12\n",
       "(90.025, 117.5]      1\n",
       "Name: count, dtype: int64"
      ]
     },
     "execution_count": 132,
     "metadata": {},
     "output_type": "execute_result"
    },
    {
     "data": {
      "image/png": "[encoded data removed]",
      "text/plain": [
       "<Figure size 640x480 with 1 Axes>"
      ]
     },
     "metadata": {},
     "output_type": "display_data"
    }
   ],
   "source": [
    "#TODO: Preprocess Data. Arrange steps and document techniques \n",
    "print(\"List of our column names before aggregation: \" , list(RealEstateData.columns))\n",
    "\n",
    "#aggregration\n",
    "\n",
    "#combining attribute langitude and longitude into column called coordinates\n",
    "RealEstateData[\"Coord\"] = RealEstateData['X5 latitude'].astype(str) + \", \" + RealEstateData['X6 longitude'].astype(str)\n",
    "RealEstateData = RealEstateData.drop(\"X5 latitude\" , axis =1)\n",
    "RealEstateData = RealEstateData.drop(\"X6 longitude\" , axis =1)\n",
    "print(\"\\n\\nAfter aggreation of columnds Langitutde and Longitude into column corridnate\", RealEstateData.columns)\n",
    "\n",
    "\n",
    "#sample\n",
    "sampleData = RealEstateData.sample(frac = 0.1)\n",
    "\n",
    "#dimension reduction\n",
    "#no need; all features are useful.\n",
    "\n",
    "#feature subset selection\n",
    "#no need; no redundant feature\n",
    "\n",
    "#feature creation\n",
    "#no need for feature creation.\n",
    "\n",
    "#discretization and binarization\n",
    "#making continuous attribute of house price into categorical in terms of price- low, medium, high\n",
    "RealEstateData['Y house price of unit area'].hist(bins=10)\n",
    "\n",
    "bins = pd.cut(RealEstateData['Y house price of unit area'],4)\n",
    "bins.value_counts(sort=False)\n",
    "\n",
    "#attribute transformation"
   ]
  },
  {
   "cell_type": "code",
   "execution_count": 133,
   "id": "cf0d3945-82ab-4fde-ba0b-bdd0f1ceaaa0",
   "metadata": {},
   "outputs": [
    {
     "data": {
      "text/plain": [
       "(              No  X1 transaction date  X2 house age  \\\n",
       " mean  216.024155          2013.170692     16.993237   \n",
       " std   117.295844             0.283224     11.147225   \n",
       " \n",
       "       X3 distance to the nearest MRT station  X4 number of convenience stores  \\\n",
       " mean                             1068.728642                         4.115942   \n",
       " std                              1219.262138                         3.010675   \n",
       " \n",
       "       Y house price of unit area   Latitude   Longitude  \n",
       " mean                   38.423188  24.969909  121.533895  \n",
       " std                    14.503268   0.012716    0.014970  ,\n",
       "               No  X1 transaction date  X2 house age  \\\n",
       " mean  198.975845          2013.127214     18.200966   \n",
       " std   121.655907             0.279756     11.475745   \n",
       " \n",
       "       X3 distance to the nearest MRT station  X4 number of convenience stores  \\\n",
       " mean                             1099.042736                         4.072464   \n",
       " std                              1306.335341                         2.886118   \n",
       " \n",
       "       Y house price of unit area   Latitude   Longitude  \n",
       " mean                   37.552174  24.968152  121.532827  \n",
       " std                    12.567373   0.012063    0.015733  )"
      ]
     },
     "execution_count": 133,
     "metadata": {},
     "output_type": "execute_result"
    }
   ],
   "source": [
    "#TODO: Split dataset- calculate mean and standard deviation\n",
    "from sklearn.model_selection import train_test_split\n",
    "if 'Coord' in RealEstateData.columns:\n",
    "    RealEstateData[['Latitude', 'Longitude']] = RealEstateData['Coord'].str.split(',', expand=True)\n",
    "    RealEstateData['Latitude'] = RealEstateData['Latitude'].astype(float)\n",
    "    RealEstateData['Longitude'] = RealEstateData['Longitude'].astype(float)\n",
    "    RealEstateData = RealEstateData.drop(columns=['Coord'])\n",
    "else:\n",
    "    print(\"The 'Coord' column does not exist.\")\n",
    "\n",
    "part1, part2 = train_test_split(RealEstateData, test_size=0.5, random_state=42)\n",
    "\n",
    "#Compare split datasets and document difference/intuition\n",
    "stats_part1 = part1.describe().loc[['mean', 'std']]\n",
    "stats_part2 = part2.describe().loc[['mean', 'std']]\n",
    "\n",
    "stats_part1, stats_part2\n",
    "\n"
   ]
  },
  {
   "cell_type": "code",
   "execution_count": 134,
   "id": "fde4ab5f-445f-4c28-99bb-f638ba20bc30",
   "metadata": {},
   "outputs": [
    {
     "data": {
      "text/plain": [
       "\"\\nProperty Age: The slightly lower mean age in the first part suggests it contains somewhat newer properties on average \\ncompared to the second part. This could imply a minor difference in potential property value due to age.\\n\\nProximity to MRT Stations: The first part has properties slightly closer to MRT stations on average, as indicated by the \\nlower mean distance. Closer proximity to public transport can positively affect property values.\\n\\nNumber of Convenience Stores: Both parts show a similar average number of convenience stores nearby, indicating that \\nthe split did not significantly segregate properties based on this urban convenience factor.\\n\\nHouse Price of Unit Area: The first part has a higher average house price, which, coupled with its slightly newer \\nproperties and closer proximity to MRT stations, might suggest these factors play a role in property valuation.\\n\\nGeographical Distribution: The very close means for latitude and longitude in both parts indicate a geographically \\nconsistent split, ensuring that any spatial analysis will be representative of the entire dataset.\\n\\nVariability in Data: The standard deviations show that there is a broad range of values within each feature across both \\nsplits, indicating variability and diversity within the dataset that is crucial for robust analysis.\\n\\nConclusion:\\nThe two dataset splits are well-balanced across key features, making them suitable for further analysis or model \\ntraining/testing. The minor differences observed align with intuitive expectations \\nabout the impact of age, proximity to MRT stations, and urban conveniences on property prices. \\nThese insights affirm the dataset's integrity for conducting comprehensive real estate market analyses.\\n\\n\""
      ]
     },
     "execution_count": 134,
     "metadata": {},
     "output_type": "execute_result"
    }
   ],
   "source": [
    "#Documentation\n",
    "\"\"\"\n",
    "Property Age: The slightly lower mean age in the first part suggests it contains somewhat newer properties on average \n",
    "compared to the second part. This could imply a minor difference in potential property value due to age.\n",
    "\n",
    "Proximity to MRT Stations: The first part has properties slightly closer to MRT stations on average, as indicated by the \n",
    "lower mean distance. Closer proximity to public transport can positively affect property values.\n",
    "\n",
    "Number of Convenience Stores: Both parts show a similar average number of convenience stores nearby, indicating that \n",
    "the split did not significantly segregate properties based on this urban convenience factor.\n",
    "\n",
    "House Price of Unit Area: The first part has a higher average house price, which, coupled with its slightly newer \n",
    "properties and closer proximity to MRT stations, might suggest these factors play a role in property valuation.\n",
    "\n",
    "Geographical Distribution: The very close means for latitude and longitude in both parts indicate a geographically \n",
    "consistent split, ensuring that any spatial analysis will be representative of the entire dataset.\n",
    "\n",
    "Variability in Data: The standard deviations show that there is a broad range of values within each feature across both \n",
    "splits, indicating variability and diversity within the dataset that is crucial for robust analysis.\n",
    "\n",
    "Conclusion:\n",
    "The two dataset splits are well-balanced across key features, making them suitable for further analysis or model \n",
    "training/testing. The minor differences observed align with intuitive expectations \n",
    "about the impact of age, proximity to MRT stations, and urban conveniences on property prices. \n",
    "These insights affirm the dataset's integrity for conducting comprehensive real estate market analyses.\n",
    "\n",
    "\"\"\""
   ]
  }
 ],
 "metadata": {
  "kernelspec": {
   "display_name": "Python 3 (ipykernel)",
   "language": "python",
   "name": "python3"
  },
  "language_info": {
   "codemirror_mode": {
    "name": "ipython",
    "version": 3
   },
   "file_extension": ".py",
   "mimetype": "text/x-python",
   "name": "python",
   "nbconvert_exporter": "python",
   "pygments_lexer": "ipython3",
   "version": "3.12.1"
  }
 },
 "nbformat": 4,
 "nbformat_minor": 5
}
