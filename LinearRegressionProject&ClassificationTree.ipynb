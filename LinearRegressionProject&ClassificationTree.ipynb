{
 "cells": [
  {
   "cell_type": "markdown",
   "metadata": {},
   "source": [
    "(a) Regression: Using any of the data in previous assignment:\n"
   ]
  },
  {
   "cell_type": "code",
   "execution_count": null,
   "metadata": {},
   "outputs": [],
   "source": [
    "import pandas as pd\n",
    "import numpy as np\n",
    "import matplotlib.pyplot as plt\n",
    "from sklearn.model_selection import train_test_split\n",
    "from sklearn.linear_model import LinearRegression\n",
    "from sklearn.metrics import mean_squared_error, r2_score\n",
    "from sklearn.preprocessing import StandardScaler\n",
    "\n",
    "RealEstateData = pd.read_excel(\"/Users/user/Documents/RealEstateDataSet.xlsx\")\n",
    "\n",
    "part1, part2 = train_test_split(RealEstateData, test_size=0.5, random_state=42)\n",
    "\n",
    "x1 = part1[['X2 house age']]\n",
    "y1 = part1['Y house price of unit area']\n",
    "x2 = part2[['X2 house age']]\n",
    "y2 = part2['Y house price of unit area']\n",
    "\n",
    "x1_train, x1_test, y1_train, y1_test = train_test_split(x1, y1, test_size=0.2, random_state=42)\n",
    "x2_train, x2_test, y2_train, y2_test = train_test_split(x2, y2, test_size=0.2, random_state=42)\n",
    "\n",
    "scaler = StandardScaler()\n",
    "x1_train_scaled = scaler.fit_transform(x1_train)\n",
    "x1_test_scaled = scaler.transform(x1_test)\n",
    "x2_train_scaled = scaler.fit_transform(x2_train)\n",
    "x2_test_scaled = scaler.transform(x2_test)\n",
    "\n",
    "lr1 = LinearRegression()\n",
    "lr1.fit(x1_train_scaled, y1_train)\n",
    "y1_pred = lr1.predict(x1_test_scaled)\n",
    "\n",
    "plt.scatter(x1_test_scaled, y1_test, color='black')\n",
    "plt.plot(x1_test_scaled, y1_pred, color='blue', linewidth=3)\n",
    "plt.title('Simple Linear Regression on Part 1')\n",
    "plt.xlabel('House Age (Standardized)')\n",
    "plt.ylabel('Price of Unit Area')\n",
    "plt.savefig('/mnt/data/part1_simple_linear_regression.png')\n",
    "plt.show()\n",
    "\n",
    "lr2 = LinearRegression()\n",
    "lr2.fit(x2_train_scaled, y2_train)\n",
    "y2_pred = lr2.predict(x2_test_scaled)\n",
    "\n",
    "\n",
    "plt.scatter(x2_test_scaled, y2_test, color='black')\n",
    "plt.plot(x2_test_scaled, y2_pred, color='blue', linewidth=3)\n",
    "plt.title('Simple Linear Regression on Part 2')\n",
    "plt.xlabel('House Age (Standardized)')\n",
    "plt.ylabel('Price of Unit Area')\n",
    "plt.savefig('/mnt/data/part2_simple_linear_regression.png')\n",
    "plt.show()"
   ]
  }
 ],
 "metadata": {
  "language_info": {
   "name": "python"
  }
 },
 "nbformat": 4,
 "nbformat_minor": 2
}
