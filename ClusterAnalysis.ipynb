{
 "cells": [
  {
   "cell_type": "markdown",
   "id": "93b77aeb-a22c-4265-a39e-1bb0e59a6f19",
   "metadata": {},
   "source": [
    "## Cluster Analysis, ANN and Text Mining Project \n",
    "Mining Manatees"
   ]
  },
  {
   "cell_type": "code",
   "execution_count": 4,
   "id": "f0637941-7fb4-4878-aa88-819e893b2acd",
   "metadata": {},
   "outputs": [],
   "source": [
    "#import necessary libraries\n",
    "import pandas as pd\n",
    "import numpy as np\n",
    "from sklearn.model_selection import train_test_split\n",
    "from sklearn.linear_model import LogisticRegression\n",
    "from sklearn.metrics import confusion_matrix\n",
    "from sklearn.metrics import accuracy_score\n",
    "from sklearn.feature_extraction.text import CountVectorizer, TfidfVectorizer\n",
    "from sklearn.preprocessing import normalize\n",
    "from sklearn.cluster import KMeans\n",
    "import matplotlib.pyplot as plt"
   ]
  },
  {
   "cell_type": "markdown",
   "id": "f67f0663-43ed-4468-b3b8-c9d2af35c320",
   "metadata": {},
   "source": [
    "Part 1 – CLUSTER ANALYSIS. \n",
    "I ran a K means algorithm with k values of 2,3,4,5,6 on the imdb movie dataset. I wanted to find clusters on a number of predictors, such as `imdb number votes` , `genre` , `critics_score` and so forth. I used hot encoding to convert the text values of strings to numerical values. From the SSE vs clusters graph, there is strong evidence that k =6, or six clusters have a low mean of squared distances."
   ]
  },
  {
   "cell_type": "code",
   "execution_count": 5,
   "id": "9e6c5f69-8e1e-42bd-a841-6a8693211da5",
   "metadata": {},
   "outputs": [
    {
     "name": "stdout",
     "output_type": "stream",
     "text": [
      "['Unnamed: 0', 'title', 'title_type', 'genre', 'runtime', 'mpaa_rating', 'studio', 'thtr_rel_year', 'thtr_rel_month', 'thtr_rel_day', 'dvd_rel_year', 'dvd_rel_month', 'dvd_rel_day', 'imdb_rating', 'imdb_num_votes', 'critics_rating', 'critics_score', 'audience_rating', 'audience_score', 'best_pic_nom', 'best_pic_win', 'best_actor_win', 'best_actress_win', 'best_dir_win', 'top200_box', 'director', 'actor1', 'actor2', 'actor3', 'actor4', 'actor5', 'imdb_url', 'rt_url']\n"
     ]
    },
    {
     "data": {
      "text/plain": [
       "Text(0, 0.5, 'SSE')"
      ]
     },
     "execution_count": 5,
     "metadata": {},
     "output_type": "execute_result"
    },
    {
     "data": {
      "image/png": "[encoded data removed]",
      "text/plain": [
       "<Figure size 640x480 with 1 Axes>"
      ]
     },
     "metadata": {},
     "output_type": "display_data"
    }
   ],
   "source": [
    "#read data\n",
    "data = pd.read_csv(\"C:\\\\Users\\\\Julian\\\\Downloads\\\\imdb_dataset.csv\")\n",
    "\n",
    "#preview data\n",
    "print(list(data.columns))\n",
    "\n",
    "#i only want to focus on these columns\n",
    "columnsToKeep = ['title_type', 'genre','runtime','imdb_rating','imdb_num_votes','imdb_num_votes','critics_score','audience_score','best_pic_win','best_actor_win','best_actress_win', 'actor1', 'actor2']\n",
    "\n",
    "cleanData = data.filter(columnsToKeep)\n",
    "cleanData = cleanData.dropna()\n",
    "\n",
    "\n",
    "#encode these columns since they are text columns\n",
    "cleanData['title_type'] = pd.Categorical(cleanData['title_type']).codes\n",
    "cleanData['genre'] = pd.Categorical(cleanData['genre']).codes\n",
    "cleanData['best_pic_win'] = pd.Categorical(cleanData['best_pic_win']).codes\n",
    "cleanData['best_actor_win'] = pd.Categorical(cleanData['best_actor_win']).codes\n",
    "cleanData['best_actress_win'] = pd.Categorical(cleanData['best_actress_win']).codes\n",
    "cleanData['actor1'] = pd.Categorical(cleanData['actor1']).codes\n",
    "cleanData['actor2'] = pd.Categorical(cleanData['actor2']).codes\n",
    "cleanData\n",
    "\n",
    "#number of clusters, our k value\n",
    "numClusters = [2,3,4,5,6]\n",
    "\n",
    "#a list of our sum of squared distances to their closest cluster center\n",
    "SSE = []\n",
    "for k in numClusters:\n",
    "    k_means = KMeans(n_clusters=k, random_state = 10)\n",
    "    k_means.fit(cleanData)\n",
    "    SSE.append(k_means.inertia_)\n",
    "    \n",
    "plt.plot(numClusters, SSE)\n",
    "plt.xlabel('Number of Clusters')\n",
    "plt.ylabel('SSE')"
   ]
  },
  {
   "cell_type": "markdown",
   "id": "21c49ede-30ef-420f-bca2-81775971009b",
   "metadata": {},
   "source": [
    "Part2: Text Mining"
   ]
  },
  {
   "cell_type": "code",
   "execution_count": 20,
   "id": "75ff8692",
   "metadata": {},
   "outputs": [
    {
     "name": "stdout",
     "output_type": "stream",
     "text": [
      "Count Vector DataFrame (First 5 Rows):\n",
      "   1000  101  11  110901  12  18  1941  200  21  25th  ...  year  yes  york  \\\n",
      "0     0    0   0       0   0   0     0    0   0     0  ...     0    0     0   \n",
      "1     0    0   0       0   0   0     0    0   0     0  ...     0    0     0   \n",
      "2     0    0   0       0   0   0     0    0   0     0  ...     0    0     0   \n",
      "3     0    0   0       0   0   0     0    0   0     0  ...     0    0     0   \n",
      "4     0    0   0       0   0   0     0    0   0     0  ...     0    0     0   \n",
      "\n",
      "   young  youre  zero  ziggy  zombi  zonethe  zorn  \n",
      "0      0      0     0      0      0        0     0  \n",
      "1      0      0     0      0      0        0     0  \n",
      "2      0      0     0      0      0        0     0  \n",
      "3      0      0     0      0      0        0     0  \n",
      "4      0      0     0      0      0        0     0  \n",
      "\n",
      "[5 rows x 1010 columns]\n",
      "\n",
      "TF-IDF Vector DataFrame (First 5 Rows):\n",
      "   1000  101   11  110901   12   18  1941  200   21  25th  ...  year  yes  \\\n",
      "0   0.0  0.0  0.0     0.0  0.0  0.0   0.0  0.0  0.0   0.0  ...   0.0  0.0   \n",
      "1   0.0  0.0  0.0     0.0  0.0  0.0   0.0  0.0  0.0   0.0  ...   0.0  0.0   \n",
      "2   0.0  0.0  0.0     0.0  0.0  0.0   0.0  0.0  0.0   0.0  ...   0.0  0.0   \n",
      "3   0.0  0.0  0.0     0.0  0.0  0.0   0.0  0.0  0.0   0.0  ...   0.0  0.0   \n",
      "4   0.0  0.0  0.0     0.0  0.0  0.0   0.0  0.0  0.0   0.0  ...   0.0  0.0   \n",
      "\n",
      "   york  young  youre  zero  ziggy  zombi  zonethe  zorn  \n",
      "0   0.0    0.0    0.0   0.0    0.0    0.0      0.0   0.0  \n",
      "1   0.0    0.0    0.0   0.0    0.0    0.0      0.0   0.0  \n",
      "2   0.0    0.0    0.0   0.0    0.0    0.0      0.0   0.0  \n",
      "3   0.0    0.0    0.0   0.0    0.0    0.0      0.0   0.0  \n",
      "4   0.0    0.0    0.0   0.0    0.0    0.0      0.0   0.0  \n",
      "\n",
      "[5 rows x 1010 columns]\n"
     ]
    }
   ],
   "source": [
    "data['title'] = data['title'].str.lower().str.replace(r'[^\\w\\s]+', '', regex=True)\n",
    "\n",
    "# count vectors\n",
    "count_vect = CountVectorizer(stop_words='english')\n",
    "count_matrix = count_vect.fit_transform(data['title'])\n",
    "count_data = pd.DataFrame(count_matrix.toarray(), columns=count_vect.get_feature_names_out())\n",
    "\n",
    "# tf-idf vector\n",
    "tfidf_vect = TfidfVectorizer(stop_words='english')\n",
    "tfidf_matrix = tfidf_vect.fit_transform(data['title'])\n",
    "tfidf_normalized = normalize(tfidf_matrix, norm='l1', axis=1)\n",
    "tfidf_data = pd.DataFrame(tfidf_normalized.toarray(), columns=tfidf_vect.get_feature_names_out())\n",
    "\n",
    "print(\"Count Vector DataFrame (First 5 Rows):\")\n",
    "print(count_data.head())\n",
    "\n",
    "print(\"\\nTF-IDF Vector DataFrame (First 5 Rows):\")\n",
    "print(tfidf_data.head())\n"
   ]
  },
  {
   "cell_type": "markdown",
   "id": "5b901ed6",
   "metadata": {},
   "source": [
    "Usage:\n"
   ]
  },
  {
   "cell_type": "markdown",
   "id": "48c6631d-d8b2-460b-b2d0-3ad4af29d9b3",
   "metadata": {},
   "source": [
    "Part3: ANN (Artificial Neural Network)"
   ]
  },
  {
   "cell_type": "markdown",
   "id": "e0186f7d-06e2-46ac-aa64-98552c719d48",
   "metadata": {},
   "source": [
    "Part4: Report"
   ]
  },
  {
   "cell_type": "markdown",
   "id": "081d25e3-9cd0-4804-8fde-e5f994036e0e",
   "metadata": {},
   "source": [
    "Part5: Data Preprocessing for ANN (BONUS)"
   ]
  }
 ],
 "metadata": {
  "kernelspec": {
   "display_name": "Python 3 (ipykernel)",
   "language": "python",
   "name": "python3"
  },
  "language_info": {
   "codemirror_mode": {
    "name": "ipython",
    "version": 3
   },
   "file_extension": ".py",
   "mimetype": "text/x-python",
   "name": "python",
   "nbconvert_exporter": "python",
   "pygments_lexer": "ipython3",
   "version": "3.12.1"
  }
 },
 "nbformat": 4,
 "nbformat_minor": 5
}
